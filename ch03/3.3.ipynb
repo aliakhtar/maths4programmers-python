{
 "cells": [
  {
   "cell_type": "markdown",
   "metadata": {},
   "source": [
    "# 3.3 Dot prods\n"
   ]
  },
  {
   "cell_type": "code",
   "execution_count": 71,
   "metadata": {
    "pycharm": {
     "name": "#%%\n"
    }
   },
   "outputs": [
    {
     "name": "stdout",
     "output_type": "stream",
     "text": [
      "The autoreload extension is already loaded. To reload it, use:\n",
      "  %reload_ext autoreload\n"
     ]
    }
   ],
   "source": [
    "%load_ext autoreload\n",
    "%autoreload 2\n",
    "#from jupyterthemes import jtplot\n",
    "#jtplot.style()"
   ]
  },
  {
   "cell_type": "code",
   "execution_count": 72,
   "metadata": {
    "pycharm": {
     "name": "#%%\n"
    }
   },
   "outputs": [],
   "source": [
    "from ch03.draw3d import *\n",
    "from ch03.colors import *\n",
    "from ch03.vectors import *\n",
    "from ch03.functions import  *"
   ]
  },
  {
   "cell_type": "code",
   "execution_count": 73,
   "metadata": {
    "pycharm": {
     "name": "#%%\n"
    }
   },
   "outputs": [
    {
     "name": "stdout",
     "output_type": "stream",
     "text": [
      "23\n",
      "0\n",
      "18\n",
      "36\n"
     ]
    }
   ],
   "source": [
    "print(dot((2,3), (4,5))) #should be 23\n",
    "print(dot( (1,0), (0, 2) )) #perpendicular, should be 0\n",
    "print(dot(( 3 , 4 ),( 2 , 3 )))\n",
    "print(dot(scale( 2 ,( 3 , 4 )),( 2 , 3 )))"
   ]
  },
  {
   "cell_type": "markdown",
   "metadata": {},
   "source": [
    "Calculating angle between vectors:"
   ]
  },
  {
   "cell_type": "code",
   "execution_count": 74,
   "metadata": {
    "pycharm": {
     "name": "#%%\n"
    }
   },
   "outputs": [
    {
     "name": "stdout",
     "output_type": "stream",
     "text": [
      "16.260204708311967\n",
      "27.266044450732828\n"
     ]
    }
   ],
   "source": [
    "#Expected: 16.3:\n",
    "print(angle_between( (3,4), (4,3) ) * 180 / pi)\n",
    "\n",
    "#Expected: 27.3:\n",
    "print(angle_between( (1,2,2), (2,2,1) ) * 180 / pi)"
   ]
  },
  {
   "cell_type": "markdown",
   "metadata": {},
   "source": [
    "Mini-project 3.15: Find a vector u of length 3 and a vector v of length 7 such that u ∙ v = 21. Find another pair of vectors\n",
    "u and v such that u ∙ v = -21. Finally, find three more pairs of vectors of respective lengths 3 and 7 and show that all of\n",
    "their lengths lie between -21 and 21."
   ]
  },
  {
   "cell_type": "code",
   "execution_count": 75,
   "metadata": {
    "pycharm": {
     "name": "#%%\n"
    }
   },
   "outputs": [
    {
     "name": "stdout",
     "output_type": "stream",
     "text": [
      "length of u: 3, length of v: 7\n",
      "dot prod: 21\n",
      "dot prod of u2 and v: -21\n"
     ]
    }
   ],
   "source": [
    "u = (0, 3)\n",
    "v = (0, 7)\n",
    "print(\"length of u: %d, length of v: %d\" % (length(u), length(v)))\n",
    "print(\"dot prod: %d\" % dot(u, v))\n",
    "\n",
    "u2 = (0, -3)\n",
    "print(\"dot prod of u2 and v: %d\" % dot(u2, v))"
   ]
  },
  {
   "cell_type": "code",
   "execution_count": 76,
   "metadata": {
    "pycharm": {
     "name": "#%%\n"
    }
   },
   "outputs": [
    {
     "name": "stdout",
     "output_type": "stream",
     "text": [
      "a length: 3, b length: 7, dot prod: -6.139806\n",
      "a length: 3, b length: 7, dot prod: -16.548226\n",
      "a length: 3, b length: 6, dot prod: -9.858903\n"
     ]
    }
   ],
   "source": [
    "# Finding 3 'pairs' of vectors whose lengths are 3 and 7 respectively:\n",
    "pairs = [ ]\n",
    "for i in range(3):\n",
    "    a = to_cartesian( (3, rand_angle()) )\n",
    "    b = to_cartesian( (7, rand_angle() ))\n",
    "    pairs.append( (a, b) )\n",
    "\n",
    "for p in pairs:\n",
    "    a = p[0]\n",
    "    b = p[1]\n",
    "    print(\"a length: %d, b length: %d, dot prod: %f\" % (length(a), length(b), dot(a, b)))"
   ]
  },
  {
   "cell_type": "markdown",
   "metadata": {},
   "source": [
    "Exercise 3.16: Let u and v be vectors, with |u| = 3.61 and |v| = 1.44. If the angle between u and v is 101.3°, what is u ∙\n",
    "v?"
   ]
  },
  {
   "cell_type": "code",
   "execution_count": 77,
   "metadata": {
    "pycharm": {
     "name": "#%%\n"
    }
   },
   "outputs": [
    {
     "name": "stdout",
     "output_type": "stream",
     "text": [
      "-1.0186064362303022\n"
     ]
    }
   ],
   "source": [
    "# cos(angle) = dotProd / lenProd\n",
    "# cos(angle) * lenProd = dotProd\n",
    "# dotProd = angleCos * lenProd\n",
    "\n",
    "lenProd = 3.61 * 1.44\n",
    "angleCos = cos( 101.3 * pi / 180 )\n",
    "dotProd = angleCos * lenProd\n",
    "print(dotProd)"
   ]
  },
  {
   "cell_type": "markdown",
   "metadata": {},
   "source": [
    "Mini-project 3.17: Find the angle between (3, 4) and (4, 3) by converting them to polar coordinates and taking the\n",
    "difference of the angles."
   ]
  },
  {
   "cell_type": "code",
   "execution_count": 78,
   "metadata": {
    "pycharm": {
     "name": "#%%\n"
    }
   },
   "outputs": [
    {
     "name": "stdout",
     "output_type": "stream",
     "text": [
      "0.2837941092083278\n"
     ]
    }
   ],
   "source": [
    "u = (3, 4)\n",
    "v = (4, 3)\n",
    "u_polar = to_polar(u)\n",
    "v_polar = to_polar(v)\n",
    "u_v_angle =  u_polar[1] - v_polar[1] # difference of angles\n",
    "print(u_v_angle)"
   ]
  },
  {
   "cell_type": "markdown",
   "metadata": {},
   "source": [
    "Exercise 3.18: What is the angle between (1, 1, 1) and (-1, -1, 1) in degrees?"
   ]
  },
  {
   "cell_type": "code",
   "execution_count": 79,
   "metadata": {
    "pycharm": {
     "name": "#%%\n"
    }
   },
   "outputs": [
    {
     "name": "stdout",
     "output_type": "stream",
     "text": [
      "109.47122063449069\n"
     ]
    }
   ],
   "source": [
    "u = (1, 1, 1)\n",
    "v = (-1, -1, 1)\n",
    "angle = acos( dot(u, v) / (length(u) * length(v)) )\n",
    "print( angle * 180 / pi )"
   ]
  }
 ],
 "metadata": {
  "kernelspec": {
   "display_name": "Python 3",
   "language": "python",
   "name": "python3"
  },
  "language_info": {
   "codemirror_mode": {
    "name": "ipython",
    "version": 3
   },
   "file_extension": ".py",
   "mimetype": "text/x-python",
   "name": "python",
   "nbconvert_exporter": "python",
   "pygments_lexer": "ipython3",
   "version": "3.8.3"
  }
 },
 "nbformat": 4,
 "nbformat_minor": 1
}