{
 "cells": [
  {
   "cell_type": "markdown",
   "metadata": {},
   "source": [
    "# 3.3 Dot prods\n"
   ]
  },
  {
   "cell_type": "code",
   "execution_count": 35,
   "metadata": {
    "pycharm": {
     "name": "#%%\n"
    }
   },
   "outputs": [
    {
     "name": "stdout",
     "output_type": "stream",
     "text": [
      "The autoreload extension is already loaded. To reload it, use:\n",
      "  %reload_ext autoreload\n"
     ]
    }
   ],
   "source": [
    "%load_ext autoreload\n",
    "%autoreload 2\n",
    "#from jupyterthemes import jtplot\n",
    "#jtplot.style()"
   ]
  },
  {
   "cell_type": "code",
   "execution_count": 36,
   "metadata": {
    "pycharm": {
     "name": "#%%\n"
    }
   },
   "outputs": [],
   "source": [
    "from ch03.draw3d import *\n",
    "#from ch3.colors import *\n",
    "from ch03.functions import  *"
   ]
  },
  {
   "cell_type": "code",
   "execution_count": 37,
   "outputs": [
    {
     "name": "stdout",
     "output_type": "stream",
     "text": [
      "23\n",
      "0\n",
      "18\n",
      "36\n"
     ]
    }
   ],
   "source": [
    "print(dot((2,3), (4,5))) #should be 23\n",
    "print(dot( (1,0), (0, 2) )) #perpendicular, should be 0\n",
    "print(dot(( 3 , 4 ),( 2 , 3 )))\n",
    "print(dot(scale( 2 ,( 3 , 4 )),( 2 , 3 )))"
   ],
   "metadata": {
    "collapsed": false,
    "pycharm": {
     "name": "#%%\n"
    }
   }
  },
  {
   "cell_type": "markdown",
   "source": [
    "Calculating angle between vectors:"
   ],
   "metadata": {
    "collapsed": false
   }
  },
  {
   "cell_type": "code",
   "execution_count": 38,
   "outputs": [
    {
     "name": "stdout",
     "output_type": "stream",
     "text": [
      "16.260204708311967\n",
      "27.266044450732828\n"
     ]
    }
   ],
   "source": [
    "#Expected: 16.3:\n",
    "print(angle_between( (3,4), (4,3) ) * 180 / pi)\n",
    "\n",
    "#Expected: 27.3:\n",
    "print(angle_between( (1,2,2), (2,2,1) ) * 180 / pi)"
   ],
   "metadata": {
    "collapsed": false,
    "pycharm": {
     "name": "#%%\n"
    }
   }
  },
  {
   "cell_type": "markdown",
   "source": [
    "Mini-project 3.15: Find a vector u of length 3 and a vector v of length 7 such that u ∙ v = 21. Find another pair of vectors\n",
    "u and v such that u ∙ v = -21. Finally, find three more pairs of vectors of respective lengths 3 and 7 and show that all of\n",
    "their lengths lie between -21 and 21."
   ],
   "metadata": {
    "collapsed": false
   }
  },
  {
   "cell_type": "code",
   "execution_count": null,
   "outputs": [],
   "source": [],
   "metadata": {
    "collapsed": false,
    "pycharm": {
     "name": "#%%\n"
    }
   }
  }
 ],
 "metadata": {
  "kernelspec": {
   "display_name": "Python 3",
   "language": "python",
   "name": "python3"
  },
  "language_info": {
   "codemirror_mode": {
    "name": "ipython",
    "version": 3
   },
   "file_extension": ".py",
   "mimetype": "text/x-python",
   "name": "python",
   "nbconvert_exporter": "python",
   "pygments_lexer": "ipython3",
   "version": "3.8.5"
  }
 },
 "nbformat": 4,
 "nbformat_minor": 1
}