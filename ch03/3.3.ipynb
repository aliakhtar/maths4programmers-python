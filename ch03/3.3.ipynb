{
 "cells": [
  {
   "cell_type": "markdown",
   "metadata": {},
   "source": [
    "# 3.3 Dot prods\n"
   ]
  },
  {
   "cell_type": "code",
   "execution_count": 62,
   "metadata": {
    "pycharm": {
     "name": "#%%\n"
    }
   },
   "outputs": [
    {
     "name": "stdout",
     "output_type": "stream",
     "text": [
      "The autoreload extension is already loaded. To reload it, use:\n",
      "  %reload_ext autoreload\n"
     ]
    }
   ],
   "source": [
    "%load_ext autoreload\n",
    "%autoreload 2\n",
    "#from jupyterthemes import jtplot\n",
    "#jtplot.style()"
   ]
  },
  {
   "cell_type": "code",
   "execution_count": 63,
   "metadata": {
    "pycharm": {
     "name": "#%%\n"
    }
   },
   "outputs": [],
   "source": [
    "from ch03.draw3d import *\n",
    "#from ch3.colors import *\n",
    "from ch03.functions import  *"
   ]
  },
  {
   "cell_type": "code",
   "execution_count": 64,
   "outputs": [
    {
     "name": "stdout",
     "output_type": "stream",
     "text": [
      "23\n",
      "0\n",
      "18\n",
      "36\n"
     ]
    }
   ],
   "source": [
    "print(dot((2,3), (4,5))) #should be 23\n",
    "print(dot( (1,0), (0, 2) )) #perpendicular, should be 0\n",
    "print(dot(( 3 , 4 ),( 2 , 3 )))\n",
    "print(dot(scale( 2 ,( 3 , 4 )),( 2 , 3 )))"
   ],
   "metadata": {
    "collapsed": false,
    "pycharm": {
     "name": "#%%\n"
    }
   }
  },
  {
   "cell_type": "markdown",
   "source": [
    "Calculating angle between vectors:"
   ],
   "metadata": {
    "collapsed": false
   }
  },
  {
   "cell_type": "code",
   "execution_count": 65,
   "outputs": [
    {
     "name": "stdout",
     "output_type": "stream",
     "text": [
      "16.260204708311967\n",
      "27.266044450732828\n"
     ]
    }
   ],
   "source": [
    "#Expected: 16.3:\n",
    "print(angle_between( (3,4), (4,3) ) * 180 / pi)\n",
    "\n",
    "#Expected: 27.3:\n",
    "print(angle_between( (1,2,2), (2,2,1) ) * 180 / pi)"
   ],
   "metadata": {
    "collapsed": false,
    "pycharm": {
     "name": "#%%\n"
    }
   }
  },
  {
   "cell_type": "markdown",
   "source": [
    "Mini-project 3.15: Find a vector u of length 3 and a vector v of length 7 such that u ∙ v = 21. Find another pair of vectors\n",
    "u and v such that u ∙ v = -21. Finally, find three more pairs of vectors of respective lengths 3 and 7 and show that all of\n",
    "their lengths lie between -21 and 21."
   ],
   "metadata": {
    "collapsed": false
   }
  },
  {
   "cell_type": "code",
   "execution_count": 66,
   "outputs": [
    {
     "name": "stdout",
     "output_type": "stream",
     "text": [
      "length of u: 3, length of v: 7\n",
      "dot prod: 21\n",
      "dot prod of u2 and v: -21\n"
     ]
    }
   ],
   "source": [
    "u = (0, 3)\n",
    "v = (0, 7)\n",
    "print(\"length of u: %d, length of v: %d\" % (length(u), length(v)))\n",
    "print(\"dot prod: %d\" % dot(u, v))\n",
    "\n",
    "u2 = (0, -3)\n",
    "print(\"dot prod of u2 and v: %d\" % dot(u2, v))"
   ],
   "metadata": {
    "collapsed": false,
    "pycharm": {
     "name": "#%%\n"
    }
   }
  },
  {
   "cell_type": "code",
   "execution_count": 68,
   "outputs": [
    {
     "name": "stdout",
     "output_type": "stream",
     "text": [
      "a length: 3, b length: 7, dot prod: 20.843469\n",
      "a length: 3, b length: 7, dot prod: -20.987207\n",
      "a length: 3, b length: 7, dot prod: -18.874675\n"
     ]
    }
   ],
   "source": [
    "# Finding 3 'pairs' of vectors whose lengths are 3 and 7 respectively:\n",
    "pairs = [ ]\n",
    "for i in range(3):\n",
    "    a = to_cartesian( (3, rand_angle()) )\n",
    "    b = to_cartesian( (7, rand_angle() ))\n",
    "    pairs.append( (a, b) )\n",
    "\n",
    "for p in pairs:\n",
    "    a = p[0]\n",
    "    b = p[1]\n",
    "    print(\"a length: %d, b length: %d, dot prod: %f\" % (length(a), length(b), dot(a, b)))"
   ],
   "metadata": {
    "collapsed": false,
    "pycharm": {
     "name": "#%%\n"
    }
   }
  },
  {
   "cell_type": "markdown",
   "source": [
    "Exercise 3.16: Let u and v be vectors, with |u| = 3.61 and |v| = 1.44. If the angle between u and v is 101.3°, what is u ∙\n",
    "v?"
   ],
   "metadata": {
    "collapsed": false
   }
  },
  {
   "cell_type": "code",
   "source": [
    "# cos(angle) = dotProd / lenProd\n",
    "# cos(angle) * lenProd = dotProd\n",
    "# dotProd = angleCos * lenProd\n",
    "\n",
    "lenProd = 3.61 * 1.44\n",
    "angleCos = cos( 101.3 * pi / 180 )\n",
    "dotProd = angleCos * lenProd\n",
    "print(dotProd)"
   ],
   "metadata": {
    "collapsed": false,
    "pycharm": {
     "name": "#%%\n"
    }
   },
   "execution_count": 70,
   "outputs": [
    {
     "name": "stdout",
     "output_type": "stream",
     "text": [
      "-1.0186064362303022\n"
     ]
    }
   ]
  }
 ],
 "metadata": {
  "kernelspec": {
   "display_name": "Python 3",
   "language": "python",
   "name": "python3"
  },
  "language_info": {
   "codemirror_mode": {
    "name": "ipython",
    "version": 3
   },
   "file_extension": ".py",
   "mimetype": "text/x-python",
   "name": "python",
   "nbconvert_exporter": "python",
   "pygments_lexer": "ipython3",
   "version": "3.8.5"
  }
 },
 "nbformat": 4,
 "nbformat_minor": 1
}