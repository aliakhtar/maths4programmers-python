{
 "cells": [
  {
   "cell_type": "markdown",
   "source": [
    "# 5.3 Translating matrices"
   ],
   "metadata": {
    "collapsed": false
   }
  },
  {
   "cell_type": "code",
   "execution_count": 2,
   "outputs": [],
   "source": [
    "%load_ext autoreload\n",
    "%autoreload 2\n",
    "from jupyterthemes import jtplot\n",
    "jtplot.style()\n",
    "\n",
    "from ch05.vectors import *\n",
    "from ch05.transforms import *\n",
    "from ch05.vector_drawing import *\n",
    "from ch05.draw3d import *\n",
    "from ch05.funcions import *"
   ],
   "metadata": {
    "collapsed": false,
    "pycharm": {
     "name": "#%%\n"
    }
   }
  },
  {
   "cell_type": "markdown",
   "source": [
    "Testing out translations done in linear way vs non linear way:"
   ],
   "metadata": {
    "collapsed": false
   }
  },
  {
   "cell_type": "code",
   "execution_count": 7,
   "outputs": [
    {
     "name": "stdout",
     "output_type": "stream",
     "text": [
      "non linear, T(u) = (4, 2, 1), T(v) = (4, 2, 1)\n",
      "Non linear, T(u) + T(v) = (8, 4, 2), T(u+v) = (5, 3, 2)\n",
      "Linear, T(u) + T(v) = (8, 4), T(u+v) = (5, 3)\n"
     ]
    }
   ],
   "source": [
    "def non_linear_translate(t, v):\n",
    "    return add(t, v)\n",
    "\n",
    "def linear_translate_2d(xDelta, yDelta, v2d):\n",
    "    x,y = v2d\n",
    "    v = (x, y, 1)\n",
    "    matrix = (\n",
    "        (1, 0, xDelta),\n",
    "        (0, 1, yDelta),\n",
    "        (0, 0, 1)\n",
    "    )\n",
    "\n",
    "    result = multiply_matrix_vector(matrix, v)\n",
    "    return (result[0], result[1])\n",
    "\n",
    "u = (1, 1, 1)\n",
    "v = (1, 1, 1)\n",
    "delta = (3, 1, 0)\n",
    "a = add( non_linear_translate(delta, u), non_linear_translate(delta, u) )\n",
    "b = non_linear_translate( delta, add(u, v) )\n",
    "\n",
    "print(\"non linear, T(u) = %s, T(v) = %s\" % (str(non_linear_translate(delta, u)), str(non_linear_translate(delta, v))))\n",
    "print(\"Non linear, T(u) + T(v) = %s, T(u+v) = %s\" % (str(a), str(b)))\n",
    "\n",
    "u = (1, 1)\n",
    "v = (1, 1)\n",
    "a = add( linear_translate_2d(3, 1, u), linear_translate_2d(3, 1, v) )\n",
    "b = linear_translate_2d(3, 1, add(u, v))\n",
    "print(\"Linear, T(u) + T(v) = %s, T(u+v) = %s\" % (str(a), str(b)))\n",
    "\n",
    "#OK, looks like this shit isn't linear"
   ],
   "metadata": {
    "collapsed": false,
    "pycharm": {
     "name": "#%%\n"
    }
   }
  }
 ],
 "metadata": {
  "kernelspec": {
   "display_name": "Python 3",
   "language": "python",
   "name": "python3"
  },
  "language_info": {
   "codemirror_mode": {
    "name": "ipython",
    "version": 2
   },
   "file_extension": ".py",
   "mimetype": "text/x-python",
   "name": "python",
   "nbconvert_exporter": "python",
   "pygments_lexer": "ipython2",
   "version": "2.7.6"
  }
 },
 "nbformat": 4,
 "nbformat_minor": 0
}