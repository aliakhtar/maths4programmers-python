{
 "cells": [
  {
   "cell_type": "markdown",
   "metadata": {},
   "source": [
    "# 5.1 Linear Transformations thru matrices"
   ]
  },
  {
   "cell_type": "code",
   "execution_count": 31,
   "metadata": {
    "pycharm": {
     "name": "#%%\n"
    }
   },
   "outputs": [
    {
     "name": "stdout",
     "output_type": "stream",
     "text": [
      "The autoreload extension is already loaded. To reload it, use:\n",
      "  %reload_ext autoreload\n"
     ]
    }
   ],
   "source": [
    "%load_ext autoreload\n",
    "%autoreload 2\n",
    "from jupyterthemes import jtplot\n",
    "jtplot.style()\n",
    "\n",
    "from ch05.vectors import *\n",
    "from ch05.transforms import *\n",
    "from ch05.vector_drawing import *\n",
    "from ch05.draw3d import *\n",
    "from ch05.funcions import *"
   ]
  },
  {
   "cell_type": "markdown",
   "metadata": {
    "pycharm": {
     "name": "#%% md\n"
    }
   },
   "source": [
    "### Matrix multiplication w/ single vector:"
   ]
  },
  {
   "cell_type": "code",
   "execution_count": 20,
   "metadata": {
    "pycharm": {
     "name": "#%%\n"
    }
   },
   "outputs": [
    {
     "name": "stdout",
     "output_type": "stream",
     "text": [
      "(1, -2, -2)\n"
     ]
    }
   ],
   "source": [
    "B = (\n",
    "    (0, 2, 1),\n",
    "    (0, 1, 0),\n",
    "    (1, 0, -1)\n",
    ")\n",
    "\n",
    "print(multiply_matrix_vector(B, (3, -2, 5)))\n"
   ]
  },
  {
   "cell_type": "markdown",
   "metadata": {},
   "source": [
    "### Multiplying matrices:"
   ]
  },
  {
   "cell_type": "code",
   "execution_count": 21,
   "metadata": {
    "pycharm": {
     "name": "#%%\n"
    }
   },
   "outputs": [
    {
     "name": "stdout",
     "output_type": "stream",
     "text": [
      "((0, 3, 1), (1, 2, 0), (1, 1, 0))\n",
      "((2, -1), (4, -3))\n"
     ]
    }
   ],
   "source": [
    "A = (\n",
    "    (1, 1, 0),\n",
    "    (1, 0, 1),\n",
    "    (1, -1, 1)\n",
    ")\n",
    "\n",
    "print(multiply_matrix(A, B))\n",
    "\n",
    "C = (\n",
    "    (1,2),\n",
    "    (3, 4)\n",
    ")\n",
    "\n",
    "D = (\n",
    "    (0, -1),\n",
    "    (1, 0)\n",
    ")\n",
    "\n",
    "print(multiply_matrix(C, D))"
   ]
  },
  {
   "cell_type": "markdown",
   "metadata": {},
   "source": [
    "### Animating teapot"
   ]
  },
  {
   "cell_type": "code",
   "execution_count": 22,
   "metadata": {
    "pycharm": {
     "name": "#%%\n"
    }
   },
   "outputs": [
    {
     "name": "stdout",
     "output_type": "stream",
     "text": [
      "pygame 2.0.0.dev10 (SDL 2.0.12, python 3.8.5)\r\n",
      "Hello from the pygame community. https://www.pygame.org/contribute.html\r\n",
      "ALSA lib pcm_dmix.c:1089:(snd_pcm_dmix_open) unable to open slave\r\n"
     ]
    }
   ],
   "source": [
    "!python oneoffs/01_rotate_teapot.py"
   ]
  },
  {
   "cell_type": "markdown",
   "metadata": {},
   "source": [
    "Exercise 5.1: Write a function infer_matrix(n, transformation) that takes a dimension (like 2 or 3) and a\n",
    "function that is a vector transformation assumed to be linear. It should return an n-by-n square matrix (an n-tuple of n-\n",
    "tuples of numbers, which is the matrix representing the linear transformation)."
   ]
  },
  {
   "cell_type": "markdown",
   "metadata": {
    "pycharm": {
     "name": "#%% md\n"
    }
   },
   "source": [
    "### Explanation\n",
    "\n",
    "Basically, we have a transformation `transform(vector)` which does a linear transformation\n",
    "(e.g rotation, reflection, or scaling) to the input vector, and returns an output vector.\n",
    "\n",
    "The vector can be represented as sums of multiples to the standard basis vectors.\n",
    "\n",
    "And the transformation can be represented as a matrix containing the results of whatever it did to the\n",
    "standard basis vectors.\n",
    "\n",
    "Then, to apply the transform, we can just break up a vector into the standard basis vectors and replace\n",
    "each of them with the corresponding column from the matrix representing the operation."
   ]
  },
  {
   "cell_type": "code",
   "execution_count": 30,
   "metadata": {
    "pycharm": {
     "name": "#%%\n"
    }
   },
   "outputs": [
    {
     "name": "stdout",
     "output_type": "stream",
     "text": [
      "((2, 0, 0), (0, 2, 0), (0, 0, 2))\n",
      "((6.123233995736766e-17, 1.0, 0), (-1.0, 1.2246467991473532e-16, 0), (0.0, 0.0, 1))\n"
     ]
    }
   ],
   "source": [
    "\n",
    "T = scale_by(2)\n",
    "print( infer_matrix(3, T) )\n",
    "print(infer_matrix(3, rotate_z_by(pi/2)))"
   ]
  },
  {
   "cell_type": "markdown",
   "metadata": {},
   "source": [
    "Mini-project 5.3: Write a random_matrix function that generates matrices of a specified size with random whole\n",
    "number entries. Use the function to generate five pairs of 3-by-3 matrices. Multiply each of the pairs together by hand\n",
    "(for practice) and then check your work with the matrix_multiply function."
   ]
  },
  {
   "cell_type": "code",
   "execution_count": 39,
   "metadata": {
    "pycharm": {
     "name": "#%%\n"
    }
   },
   "outputs": [
    {
     "name": "stdout",
     "output_type": "stream",
     "text": [
      "Generated 5 matrices\n",
      "A = ((0, -2, 2), (1, 1, 0), (-1, -1, -2))\n",
      "B = ((-2, -1, 2), (-2, 2, -2), (0, -1, -1))\n",
      "Result: ((4, -6, 2), (-4, 1, 0), (4, 1, 2))\n",
      "Result in reverse: ((-3, 1, -8), (4, 8, 0), (0, 0, 2))\n",
      "\n",
      "\n",
      "A = ((-2, 2, 2), (1, 0, -2), (2, -1, -1))\n",
      "B = ((-2, 1, 1), (-2, -1, 0), (0, -1, 0))\n",
      "Result: ((0, -6, -2), (-2, 3, 1), (-2, 4, 2))\n",
      "Result in reverse: ((7, -5, -7), (3, -4, -2), (-1, 0, 2))\n",
      "\n",
      "\n",
      "A = ((1, -2, -2), (-2, -2, -1), (2, -2, -1))\n",
      "B = ((1, -2, 2), (2, 2, -1), (1, 2, 1))\n",
      "Result: ((-5, -10, 2), (-7, -2, -3), (-3, -10, 5))\n",
      "Result in reverse: ((9, -2, -2), (-4, -6, -5), (-1, -8, -5))\n",
      "\n",
      "\n",
      "A = ((0, -2, -1), (0, -1, 1), (-2, 2, -2))\n",
      "B = ((0, -2, 1), (-2, -2, 1), (1, -2, -2))\n",
      "Result: ((3, 6, 0), (3, 0, -3), (-6, 4, 4))\n",
      "Result in reverse: ((-2, 4, -4), (-2, 8, -2), (4, -4, 1))\n",
      "\n",
      "\n",
      "A = ((-1, -1, 0), (1, -2, -2), (0, 2, 2))\n",
      "B = ((2, 0, -2), (1, 0, 1), (1, -2, 1))\n",
      "Result: ((-3, 0, 1), (-2, 4, -6), (4, -4, 4))\n",
      "Result in reverse: ((-2, -6, -4), (-1, 1, 2), (-3, 5, 6))\n",
      "\n",
      "\n"
     ]
    }
   ],
   "source": [
    "\n",
    "# 1: Generating five 3x3 matrices:\n",
    "rand_matrices = [\n",
    "    tuple( random_matrix(3, 3) for x in range(2) )\n",
    "    for z in range(5)\n",
    "]\n",
    "\n",
    "print(\"Generated %d matrices\" % len(rand_matrices))\n",
    "\n",
    "for p in rand_matrices:\n",
    "    a,b = p\n",
    "    print(\"A = %s\\nB = %s\" % (str(a), str(b)))\n",
    "    result = multiply_matrix(a, b)\n",
    "    print(\"Result: %s\" % str(result))\n",
    "    print(\"Result in reverse: %s\" % str( multiply_matrix(b, a) )) # For ex 5.54\n",
    "    print(\"\\n\")"
   ]
  }
 ],
 "metadata": {
  "kernelspec": {
   "display_name": "Python 3",
   "language": "python",
   "name": "python3"
  },
  "language_info": {
   "codemirror_mode": {
    "name": "ipython",
    "version": 3
   },
   "file_extension": ".py",
   "mimetype": "text/x-python",
   "name": "python",
   "nbconvert_exporter": "python",
   "pygments_lexer": "ipython3",
   "version": "3.8.5"
  }
 },
 "nbformat": 4,
 "nbformat_minor": 1
}