{
 "cells": [
  {
   "cell_type": "markdown",
   "source": [
    "# 5.1 Linear Transformations thru matrices"
   ],
   "metadata": {
    "collapsed": false
   }
  },
  {
   "cell_type": "code",
   "execution_count": 29,
   "outputs": [
    {
     "name": "stdout",
     "output_type": "stream",
     "text": [
      "The autoreload extension is already loaded. To reload it, use:\n",
      "  %reload_ext autoreload\n"
     ]
    }
   ],
   "source": [
    "%load_ext autoreload\n",
    "%autoreload 2\n",
    "from jupyterthemes import jtplot\n",
    "jtplot.style()\n",
    "\n",
    "from ch05.vectors import *\n",
    "from ch05.transforms import *\n",
    "from ch05.vector_drawing import *\n",
    "from ch05.draw3d import *\n",
    "from ch05.funcions import *"
   ],
   "metadata": {
    "collapsed": false,
    "pycharm": {
     "name": "#%%\n"
    }
   }
  },
  {
   "cell_type": "markdown",
   "source": [
    "### Matrix multiplication w/ single vector:"
   ],
   "metadata": {
    "collapsed": false,
    "pycharm": {
     "name": "#%% md\n"
    }
   }
  },
  {
   "cell_type": "code",
   "execution_count": 20,
   "outputs": [
    {
     "name": "stdout",
     "output_type": "stream",
     "text": [
      "(1, -2, -2)\n"
     ]
    }
   ],
   "source": [
    "B = (\n",
    "    (0, 2, 1),\n",
    "    (0, 1, 0),\n",
    "    (1, 0, -1)\n",
    ")\n",
    "\n",
    "print(multiply_matrix_vector(B, (3, -2, 5)))\n"
   ],
   "metadata": {
    "collapsed": false,
    "pycharm": {
     "name": "#%%\n"
    }
   }
  },
  {
   "cell_type": "markdown",
   "source": [
    "### Multiplying matrices:"
   ],
   "metadata": {
    "collapsed": false
   }
  },
  {
   "cell_type": "code",
   "execution_count": 21,
   "outputs": [
    {
     "name": "stdout",
     "output_type": "stream",
     "text": [
      "((0, 3, 1), (1, 2, 0), (1, 1, 0))\n",
      "((2, -1), (4, -3))\n"
     ]
    }
   ],
   "source": [
    "A = (\n",
    "    (1, 1, 0),\n",
    "    (1, 0, 1),\n",
    "    (1, -1, 1)\n",
    ")\n",
    "\n",
    "print(multiply_matrix(A, B))\n",
    "\n",
    "C = (\n",
    "    (1,2),\n",
    "    (3, 4)\n",
    ")\n",
    "\n",
    "D = (\n",
    "    (0, -1),\n",
    "    (1, 0)\n",
    ")\n",
    "\n",
    "print(multiply_matrix(C, D))"
   ],
   "metadata": {
    "collapsed": false,
    "pycharm": {
     "name": "#%%\n"
    }
   }
  },
  {
   "cell_type": "markdown",
   "source": [
    "### Animating teapot"
   ],
   "metadata": {
    "collapsed": false
   }
  },
  {
   "cell_type": "code",
   "execution_count": 22,
   "outputs": [
    {
     "name": "stdout",
     "output_type": "stream",
     "text": [
      "pygame 2.0.0.dev10 (SDL 2.0.12, python 3.8.5)\r\n",
      "Hello from the pygame community. https://www.pygame.org/contribute.html\r\n",
      "ALSA lib pcm_dmix.c:1089:(snd_pcm_dmix_open) unable to open slave\r\n"
     ]
    }
   ],
   "source": [
    "!python oneoffs/01_rotate_teapot.py"
   ],
   "metadata": {
    "collapsed": false,
    "pycharm": {
     "name": "#%%\n"
    }
   }
  },
  {
   "cell_type": "markdown",
   "source": [
    "Exercise 5.1: Write a function infer_matrix(n, transformation) that takes a dimension (like 2 or 3) and a\n",
    "function that is a vector transformation assumed to be linear. It should return an n-by-n square matrix (an n-tuple of n-\n",
    "tuples of numbers, which is the matrix representing the linear transformation)."
   ],
   "metadata": {
    "collapsed": false
   }
  },
  {
   "cell_type": "markdown",
   "source": [
    "### Explanation\n",
    "\n",
    "Basically, we have a transformation `transform(vector)` which does a linear transformation\n",
    "(e.g rotation, reflection, or scaling) to the input vector, and returns an output vector.\n",
    "\n",
    "The vector can be represented as sums of multiples to the standard basis vectors.\n",
    "\n",
    "And the transformation can be represented as a matrix containing the results of whatever it did to the\n",
    "standard basis vectors.\n",
    "\n",
    "Then, to apply the transform, we can just break up a vector into the standard basis vectors and replace\n",
    "each of them with the corresponding column from the matrix representing the operation."
   ],
   "metadata": {
    "collapsed": false,
    "pycharm": {
     "name": "#%% md\n"
    }
   }
  },
  {
   "cell_type": "code",
   "execution_count": 30,
   "outputs": [
    {
     "name": "stdout",
     "output_type": "stream",
     "text": [
      "((2, 0, 0), (0, 2, 0), (0, 0, 2))\n",
      "((6.123233995736766e-17, 1.0, 0), (-1.0, 1.2246467991473532e-16, 0), (0.0, 0.0, 1))\n"
     ]
    }
   ],
   "source": [
    "\n",
    "T = scale_by(2)\n",
    "print( infer_matrix(3, T) )\n",
    "print(infer_matrix(3, rotate_z_by(pi/2)))"
   ],
   "metadata": {
    "collapsed": false,
    "pycharm": {
     "name": "#%%\n"
    }
   }
  }
 ],
 "metadata": {
  "kernelspec": {
   "display_name": "Python 3",
   "language": "python",
   "name": "python3"
  },
  "language_info": {
   "codemirror_mode": {
    "name": "ipython",
    "version": 2
   },
   "file_extension": ".py",
   "mimetype": "text/x-python",
   "name": "python",
   "nbconvert_exporter": "python",
   "pygments_lexer": "ipython2",
   "version": "2.7.6"
  }
 },
 "nbformat": 4,
 "nbformat_minor": 0
}