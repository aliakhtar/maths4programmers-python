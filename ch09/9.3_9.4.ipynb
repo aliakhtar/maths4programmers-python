{
 "cells": [
  {
   "cell_type": "markdown",
   "metadata": {
    "collapsed": true,
    "pycharm": {
     "name": "#%% md\n"
    }
   },
   "source": [
    "\n",
    "# 9.3: Deeper Euler Method"
   ]
  },
  {
   "cell_type": "code",
   "execution_count": 63,
   "outputs": [
    {
     "name": "stdout",
     "output_type": "stream",
     "text": [
      "The autoreload extension is already loaded. To reload it, use:\n",
      "  %reload_ext autoreload\n"
     ]
    }
   ],
   "source": [
    "\n",
    "%load_ext autoreload\n",
    "%autoreload 2\n",
    "from jupyterthemes import jtplot\n",
    "jtplot.style()\n",
    "\n",
    "import numpy as np\n",
    "import matplotlib as plt\n",
    "from ch09.functions import *\n",
    "from ch09.vectors import *\n",
    "from ch09.draw2d import *"
   ],
   "metadata": {
    "collapsed": false,
    "pycharm": {
     "name": "#%%\n"
    }
   }
  },
  {
   "cell_type": "markdown",
   "source": [
    "## Calculating and plotting positions using acceleration and velocities"
   ],
   "metadata": {
    "collapsed": false
   }
  },
  {
   "cell_type": "code",
   "execution_count": 64,
   "outputs": [
    {
     "data": {
      "text/plain": "[(0, 0),\n (2, 0),\n (4, 0.8),\n (6, 2.4000000000000004),\n (8, 4.800000000000001),\n (10, 8.0)]"
     },
     "execution_count": 64,
     "metadata": {},
     "output_type": "execute_result"
    }
   ],
   "source": [
    "s = (0,0)\n",
    "v = (1,0)\n",
    "a = (0, 0.2)\n",
    "interval = 2\n",
    "steps = 5\n",
    "positions = [s]\n",
    "t = 0\n",
    "for i in range(0, steps):\n",
    "    t += interval\n",
    "    s = add( s, scale(interval, v ) )\n",
    "    positions.append(s)\n",
    "    v = add(v, scale(interval, a))\n",
    "\n",
    "positions"
   ],
   "metadata": {
    "collapsed": false,
    "pycharm": {
     "name": "#%%\n"
    }
   }
  },
  {
   "cell_type": "code",
   "execution_count": 65,
   "outputs": [
    {
     "data": {
      "text/plain": "<Figure size 432x360 with 1 Axes>",
      "image/png": "[encoded data removed]"
     },
     "metadata": {},
     "output_type": "display_data"
    }
   ],
   "source": [
    "#plt.scatter([t for (t, _) in positions], [s for (_, s) in positions])\n",
    "draw2d(Points2D(*positions))"
   ],
   "metadata": {
    "collapsed": false,
    "pycharm": {
     "name": "#%%\n"
    }
   }
  },
  {
   "cell_type": "markdown",
   "source": [
    "Mini-project 9.2: Create a function that carries out Euler’s method automatically for a constantly accelerating object.\n",
    "You need to provide the function with an acceleration vector, initial velocity vector, initial position vector, and perhaps\n",
    "other parameters."
   ],
   "metadata": {
    "collapsed": false,
    "pycharm": {
     "name": "#%% md\n"
    }
   }
  },
  {
   "cell_type": "code",
   "execution_count": 83,
   "outputs": [],
   "source": [
    "def eulers_method(s0, v0, a, total_time, steps_count):\n",
    "    interval = total_time / steps_count\n",
    "    s_internal = s0\n",
    "    v_internal = v0\n",
    "    positions = [s0]\n",
    "    for _ in range(0, steps_count):\n",
    "        s_internal = add(s_internal, scale(interval, v_internal))\n",
    "        v_internal = add(v_internal, scale(interval, a))\n",
    "        positions.append(s_internal)\n",
    "\n",
    "    return positions"
   ],
   "metadata": {
    "collapsed": false,
    "pycharm": {
     "name": "#%%\n"
    }
   }
  },
  {
   "cell_type": "code",
   "execution_count": 67,
   "outputs": [
    {
     "data": {
      "text/plain": "<Figure size 432x432 with 1 Axes>",
      "image/png": "[encoded data removed]"
     },
     "metadata": {},
     "output_type": "display_data"
    }
   ],
   "source": [
    "approx5 = eulers_method((0,0), (1,0), a, 10, 5)\n",
    "approx10 = eulers_method((0,0), (1,0), a, 10, 10)\n",
    "approx100 = eulers_method((0,0), (1,0), a, 10, 100)\n",
    "approx1000 = eulers_method((0,0), (1,0), a, 10, 1000)\n",
    "\n",
    "draw2d(Points2D(*approx5, color='black'),\n",
    "       Points2D(*approx10, color='blue'),\n",
    "       Points2D(*approx100, color='green'))\n",
    "       #Points2D(*approx1000, color='red'))"
   ],
   "metadata": {
    "collapsed": false,
    "pycharm": {
     "name": "#%%\n"
    }
   }
  },
  {
   "cell_type": "markdown",
   "source": [
    "Mini-project 9.3: In the calculation of section 9.4, we under approximated the y-coordinate of position because we\n",
    "updated the y component of the velocity at the end of each time interval. Update the velocity at the beginning of each\n",
    "time interval and show that you over approximate the y position over time"
   ],
   "metadata": {
    "collapsed": false
   }
  },
  {
   "cell_type": "code",
   "execution_count": 68,
   "outputs": [
    {
     "name": "stdout",
     "output_type": "stream",
     "text": [
      "[(0, 0), (2.0, 0.0), (4.0, 0.8), (6.0, 2.4000000000000004), (8.0, 4.800000000000001), (10.0, 8.0)]\n",
      "[(0, 0), (2.0, 0.8), (4.0, 2.4000000000000004), (6.0, 4.800000000000001), (8.0, 8.0), (10.0, 12.0)]\n"
     ]
    }
   ],
   "source": [
    "def eulers_method_over(s0, v0, a, total_steps, steps_count):\n",
    "    interval = total_steps / steps_count\n",
    "    s_internal = s0\n",
    "    v_internal = v0\n",
    "    positions = [s0]\n",
    "    for _ in range(0, steps_count):\n",
    "        v_internal = add(v_internal, scale(interval, a))\n",
    "        s_internal = add(s_internal, scale(interval, v_internal))\n",
    "        positions.append(s_internal)\n",
    "\n",
    "    return positions\n",
    "\n",
    "print(approx5)\n",
    "print(eulers_method_over((0,0), (1,0), a, 10, 5))"
   ],
   "metadata": {
    "collapsed": false,
    "pycharm": {
     "name": "#%%\n"
    }
   }
  },
  {
   "cell_type": "markdown",
   "source": [
    "Mini-project 9.4: Any projectile like a thrown baseball, a bullet, or an airborne snowboarder experiences the same\n",
    "acceleration vector: 9.81 m/s/s toward the earth. If we think of the x-axis of the plane as flat ground with the positive y-\n",
    "axis pointing upward, that amounts to an acceleration vector of (0, 9.81). If a baseball is thrown from shoulder height at\n",
    "x = 0, we could say its initial position is (0, 1.5). Assume it’s thrown at an initial speed of 30 m/s at an angle of 20° up\n",
    "from the positive x direction and simulate its trajectory with Euler’s method. Approximately how far does the baseball\n",
    "go in the x direction before hitting the ground?"
   ],
   "metadata": {
    "collapsed": false
   }
  },
  {
   "cell_type": "code",
   "execution_count": 98,
   "outputs": [
    {
     "name": "stdout",
     "output_type": "stream",
     "text": [
      "[(0, 1.5), (28.190778623577252, 11.760604299770062), (56.381557247154504, 12.211208599540123), (84.57233587073176, 2.8518128993101843)]\n"
     ]
    },
    {
     "data": {
      "text/plain": "<Figure size 432x68.2105 with 1 Axes>",
      "image/png": "[encoded data removed]"
     },
     "metadata": {},
     "output_type": "display_data"
    }
   ],
   "source": [
    "def pairs(lst):\n",
    "    return list(zip(lst[:-1],lst[1:]))\n",
    "\n",
    "def points_to_fucking_segments(points):\n",
    "    return [Segment2D(fuck,this) for fuck,this in pairs(points)]\n",
    "\n",
    "def baseball_trajectory(start_pos, v_magnitude, degrees):\n",
    "    gravity = (0, -9.81)\n",
    "    radians = degrees * pi/180\n",
    "    start_v = [ v_magnitude * cos(radians), v_magnitude * sin(radians) ]\n",
    "    return [(x,y) for (x,y) in eulers_method(start_pos, start_v, gravity, 10, 10) if y >= 0]\n",
    "\n",
    "\n",
    "positions = baseball_trajectory((0, 1.5), 30, 20)\n",
    "print(positions)\n",
    "draw2d(*points_to_fucking_segments(positions), nice_aspect_ratio=False, grid=(1,1))"
   ],
   "metadata": {
    "collapsed": false,
    "pycharm": {
     "name": "#%%\n"
    }
   }
  },
  {
   "cell_type": "markdown",
   "source": [
    "Mini-project 9.5: Rerun the Euler’s method simulation from the previous mini-project with the same initial speed of 30\n",
    "but using an initial position of (0, 0) and trying various angles for the initial velocity. What angle makes the baseball go\n",
    "the farthest before hitting the ground?"
   ],
   "metadata": {
    "collapsed": false
   }
  },
  {
   "cell_type": "code",
   "execution_count": null,
   "outputs": [],
   "source": [],
   "metadata": {
    "collapsed": false,
    "pycharm": {
     "name": "#%%\n"
    }
   }
  }
 ],
 "metadata": {
  "kernelspec": {
   "display_name": "Python 3",
   "language": "python",
   "name": "python3"
  },
  "language_info": {
   "codemirror_mode": {
    "name": "ipython",
    "version": 2
   },
   "file_extension": ".py",
   "mimetype": "text/x-python",
   "name": "python",
   "nbconvert_exporter": "python",
   "pygments_lexer": "ipython2",
   "version": "2.7.6"
  }
 },
 "nbformat": 4,
 "nbformat_minor": 0
}