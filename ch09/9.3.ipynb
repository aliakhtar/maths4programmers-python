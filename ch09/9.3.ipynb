{
 "cells": [
  {
   "cell_type": "markdown",
   "metadata": {
    "collapsed": true,
    "pycharm": {
     "name": "#%% md\n"
    }
   },
   "source": [
    "\n",
    "# 9.3: Deeper Euler Method"
   ]
  },
  {
   "cell_type": "code",
   "execution_count": 41,
   "outputs": [
    {
     "name": "stdout",
     "output_type": "stream",
     "text": [
      "The autoreload extension is already loaded. To reload it, use:\n",
      "  %reload_ext autoreload\n"
     ]
    }
   ],
   "source": [
    "\n",
    "%load_ext autoreload\n",
    "%autoreload 2\n",
    "from jupyterthemes import jtplot\n",
    "jtplot.style()\n",
    "\n",
    "import numpy as np\n",
    "import matplotlib as plt\n",
    "from ch09.functions import *\n",
    "from ch09.vectors import *\n",
    "from ch09.draw2d import *"
   ],
   "metadata": {
    "collapsed": false,
    "pycharm": {
     "name": "#%%\n"
    }
   }
  },
  {
   "cell_type": "markdown",
   "source": [
    "## Calculating and plotting positions using acceleration and velocities"
   ],
   "metadata": {
    "collapsed": false
   }
  },
  {
   "cell_type": "code",
   "execution_count": 42,
   "outputs": [
    {
     "data": {
      "text/plain": "[(0, 0),\n (2, 0),\n (4, 0.8),\n (6, 2.4000000000000004),\n (8, 4.800000000000001),\n (10, 8.0)]"
     },
     "execution_count": 42,
     "metadata": {},
     "output_type": "execute_result"
    }
   ],
   "source": [
    "s = (0,0)\n",
    "v = (1,0)\n",
    "a = (0, 0.2)\n",
    "interval = 2\n",
    "steps = 5\n",
    "positions = [s]\n",
    "t = 0\n",
    "for i in range(0, steps):\n",
    "    t += interval\n",
    "    s = add( s, scale(interval, v ) )\n",
    "    positions.append(s)\n",
    "    v = add(v, scale(interval, a))\n",
    "\n",
    "positions"
   ],
   "metadata": {
    "collapsed": false,
    "pycharm": {
     "name": "#%%\n"
    }
   }
  },
  {
   "cell_type": "code",
   "execution_count": 43,
   "outputs": [
    {
     "data": {
      "text/plain": "<Figure size 432x360 with 1 Axes>",
      "image/png": "[encoded data removed]"
     },
     "metadata": {},
     "output_type": "display_data"
    }
   ],
   "source": [
    "#plt.scatter([t for (t, _) in positions], [s for (_, s) in positions])\n",
    "draw2d(Points2D(*positions))"
   ],
   "metadata": {
    "collapsed": false,
    "pycharm": {
     "name": "#%%\n"
    }
   }
  },
  {
   "cell_type": "code",
   "execution_count": 44,
   "outputs": [],
   "source": [
    "def eulers_method(s0, v0, a, total_steps, steps_count):\n",
    "    interval = total_steps / steps_count\n",
    "    s_internal = s0\n",
    "    v_internal = v0\n",
    "    positions = [s0]\n",
    "    for _ in range(0, steps_count):\n",
    "        s_internal = add(s_internal, scale(interval, v_internal))\n",
    "        v_internal = add(v_internal, scale(interval, a))\n",
    "        positions.append(s_internal)\n",
    "\n",
    "    return positions"
   ],
   "metadata": {
    "collapsed": false,
    "pycharm": {
     "name": "#%%\n"
    }
   }
  },
  {
   "cell_type": "code",
   "execution_count": 51,
   "outputs": [
    {
     "data": {
      "text/plain": "<Figure size 432x432 with 1 Axes>",
      "image/png": "[encoded data removed]"
     },
     "metadata": {},
     "output_type": "display_data"
    }
   ],
   "source": [
    "approx5 = eulers_method((0,0), (1,0), a, 10, 5)\n",
    "approx10 = eulers_method((0,0), (1,0), a, 10, 10)\n",
    "approx100 = eulers_method((0,0), (1,0), a, 10, 100)\n",
    "approx1000 = eulers_method((0,0), (1,0), a, 10, 1000)\n",
    "\n",
    "draw2d(Points2D(*approx5, color='black'),\n",
    "       Points2D(*approx10, color='blue'),\n",
    "       Points2D(*approx100, color='green'))\n",
    "       #Points2D(*approx1000, color='red'))"
   ],
   "metadata": {
    "collapsed": false,
    "pycharm": {
     "name": "#%%\n"
    }
   }
  }
 ],
 "metadata": {
  "kernelspec": {
   "display_name": "Python 3",
   "language": "python",
   "name": "python3"
  },
  "language_info": {
   "codemirror_mode": {
    "name": "ipython",
    "version": 2
   },
   "file_extension": ".py",
   "mimetype": "text/x-python",
   "name": "python",
   "nbconvert_exporter": "python",
   "pygments_lexer": "ipython2",
   "version": "2.7.6"
  }
 },
 "nbformat": 4,
 "nbformat_minor": 0
}