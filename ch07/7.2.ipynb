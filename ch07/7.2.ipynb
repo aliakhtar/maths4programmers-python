{
 "cells": [
  {
   "cell_type": "markdown",
   "metadata": {
    "collapsed": true,
    "pycharm": {
     "name": "#%% md\n"
    }
   },
   "source": [
    "\n",
    "# 7.2: Intersections of lines"
   ]
  },
  {
   "cell_type": "code",
   "execution_count": 89,
   "outputs": [
    {
     "name": "stdout",
     "output_type": "stream",
     "text": [
      "The autoreload extension is already loaded. To reload it, use:\n",
      "  %reload_ext autoreload\n"
     ]
    }
   ],
   "source": [
    "\n",
    "%load_ext autoreload\n",
    "%autoreload 2\n",
    "from jupyterthemes import jtplot\n",
    "jtplot.style()\n",
    "\n",
    "from ch07.vectors import *\n",
    "from ch07.functions import *"
   ],
   "metadata": {
    "collapsed": false,
    "pycharm": {
     "name": "#%%\n"
    }
   }
  },
  {
   "cell_type": "markdown",
   "source": [
    "## 7.24: Solving matrices with numpy"
   ],
   "metadata": {
    "collapsed": false
   }
  },
  {
   "cell_type": "code",
   "execution_count": 90,
   "outputs": [
    {
     "data": {
      "text/plain": "array([2.66666667, 2.66666667])"
     },
     "execution_count": 90,
     "metadata": {},
     "output_type": "execute_result"
    }
   ],
   "source": [
    "import numpy as np\n",
    "matrix = np.array(( (1, -1), (1, 2) ))\n",
    "output = np.array( (0, 8) )\n",
    "vector = np.linalg.solve(matrix, output)\n",
    "vector"
   ],
   "metadata": {
    "collapsed": false,
    "pycharm": {
     "name": "#%%\n"
    }
   }
  },
  {
   "cell_type": "markdown",
   "source": [
    "Exercise 7.11: Write a Python function standard_form that takes two vectors v1 and v2 and finds the line ax + by = c\n",
    "passing through both of them. Specifically, it should output the tuple of constants (a, b, c)."
   ],
   "metadata": {
    "collapsed": false
   }
  },
  {
   "cell_type": "code",
   "execution_count": 91,
   "outputs": [
    {
     "data": {
      "text/plain": "(1, 0, 3)"
     },
     "execution_count": 91,
     "metadata": {},
     "output_type": "execute_result"
    }
   ],
   "source": [
    "standard_form( (3,0), (3,1) )"
   ],
   "metadata": {
    "collapsed": false,
    "pycharm": {
     "name": "#%%\n"
    }
   }
  },
  {
   "cell_type": "markdown",
   "source": [
    "Exercise 7.10: Draw a graph for (3, 0) + t (0, 1) and convert it to the standard form using the formula."
   ],
   "metadata": {
    "collapsed": false,
    "pycharm": {
     "name": "#%% md\n"
    }
   }
  },
  {
   "cell_type": "code",
   "execution_count": 92,
   "outputs": [
    {
     "data": {
      "text/plain": "<Figure size 432x259.2 with 1 Axes>",
      "image/png": "[encoded data removed]"
     },
     "metadata": {},
     "output_type": "display_data"
    },
    {
     "name": "stdout",
     "output_type": "stream",
     "text": [
      "(3, 0), (3, 1)\n",
      "1x + 0y = 3\n"
     ]
    }
   ],
   "source": [
    "from ch05.vector_drawing import *\n",
    "\n",
    "def compute_line():\n",
    "    point = lambda t: add( (3,0), scale(t, (0, 1)) )\n",
    "    start = point(0)\n",
    "    end = point(1)\n",
    "    return Segment(start, end)\n",
    "\n",
    "line = compute_line()\n",
    "draw(line)\n",
    "\n",
    "x1, y1 = line.start_point\n",
    "x2, y2 = line.end_point\n",
    "\n",
    "print(\"({}, {}), ({}, {})\".format(x1, y1, x2, y2))\n",
    "\n",
    "a = y2 - y1\n",
    "b = x1 - x2\n",
    "c = ( x1 * y2 ) - (x2 * y1)\n",
    "print(\"{}x + {}y = {}\".format(a, b, c))\n",
    "\n",
    "\n"
   ],
   "metadata": {
    "collapsed": false,
    "pycharm": {
     "name": "#%%\n"
    }
   }
  },
  {
   "cell_type": "markdown",
   "source": [
    "Mini-project 7.12: For each of the four distance checks in do_segments_intersect, find a pair of line segments\n",
    "that fail one of the checks but pass the other three checks."
   ],
   "metadata": {
    "collapsed": false
   }
  },
  {
   "cell_type": "code",
   "execution_count": 93,
   "outputs": [
    {
     "data": {
      "text/plain": "<Figure size 432x345.6 with 1 Axes>",
      "image/png": "[encoded data removed]"
     },
     "metadata": {},
     "output_type": "display_data"
    },
    {
     "data": {
      "text/plain": "[False, True, True, True]"
     },
     "execution_count": 93,
     "metadata": {},
     "output_type": "execute_result"
    }
   ],
   "source": [
    "def segment_checks(u_start, u_end, v_start, v_end):\n",
    "    u_len = distance(u_start, u_end)\n",
    "    v_len = distance(v_start, v_end)\n",
    "    i = intersection(u_start, u_end, v_start, v_end)\n",
    "    #i = (0,0)\n",
    "\n",
    "    checks = []\n",
    "\n",
    "    checks.append( distance(u_start, i) <= u_len )\n",
    "    checks.append( distance(u_end, i) <= u_len )\n",
    "    checks.append( distance(v_start, i) <= v_len )\n",
    "    checks.append(distance(v_end, i) <= v_len)\n",
    "\n",
    "    u = Segment(u_start, u_end, color='blue')\n",
    "    v = Segment(v_start, v_end, color='red')\n",
    "    draw(u, v, axes=None)\n",
    "\n",
    "    return checks\n",
    "\n",
    "# u is y = 0 (horizontal line)\n",
    "# v is x = 0 (vertical line)\n",
    "# the only intersection is at origin (0,0)\n",
    "\n",
    "segment_checks((-3,0),(-1,0),(0,-1),(0,1))"
   ],
   "metadata": {
    "collapsed": false,
    "pycharm": {
     "name": "#%%\n"
    }
   }
  },
  {
   "cell_type": "code",
   "execution_count": 94,
   "outputs": [
    {
     "data": {
      "text/plain": "<Figure size 432x345.6 with 1 Axes>",
      "image/png": "[encoded data removed]"
     },
     "metadata": {},
     "output_type": "display_data"
    },
    {
     "data": {
      "text/plain": "[True, False, True, True]"
     },
     "execution_count": 94,
     "metadata": {},
     "output_type": "execute_result"
    }
   ],
   "source": [
    "segment_checks((1,0),(3,0),(0,-1),(0,1))"
   ],
   "metadata": {
    "collapsed": false,
    "pycharm": {
     "name": "#%%\n"
    }
   }
  },
  {
   "cell_type": "code",
   "execution_count": 95,
   "outputs": [
    {
     "data": {
      "text/plain": "<Figure size 432x540 with 1 Axes>",
      "image/png": "[encoded data removed]"
     },
     "metadata": {},
     "output_type": "display_data"
    },
    {
     "data": {
      "text/plain": "[True, True, False, True]"
     },
     "execution_count": 95,
     "metadata": {},
     "output_type": "execute_result"
    }
   ],
   "source": [
    "segment_checks((-1,0),(1,0),(0,-3),(0,-1))"
   ],
   "metadata": {
    "collapsed": false,
    "pycharm": {
     "name": "#%%\n"
    }
   }
  },
  {
   "cell_type": "code",
   "execution_count": 96,
   "outputs": [
    {
     "data": {
      "text/plain": "<Figure size 432x540 with 1 Axes>",
      "image/png": "[encoded data removed]"
     },
     "metadata": {},
     "output_type": "display_data"
    },
    {
     "data": {
      "text/plain": "[True, True, True, False]"
     },
     "execution_count": 96,
     "metadata": {},
     "output_type": "execute_result"
    }
   ],
   "source": [
    "segment_checks((-1,0),(1,0),(0,1),(0,3))"
   ],
   "metadata": {
    "collapsed": false,
    "pycharm": {
     "name": "#%%\n"
    }
   }
  },
  {
   "cell_type": "markdown",
   "source": [
    "Exercise 7.13: For the example laser line and asteroid, confirm the does_intersect function returns True."
   ],
   "metadata": {
    "collapsed": false
   }
  },
  {
   "cell_type": "code",
   "execution_count": 100,
   "outputs": [
    {
     "data": {
      "text/plain": "True"
     },
     "execution_count": 100,
     "metadata": {},
     "output_type": "execute_result"
    }
   ],
   "source": [
    "from ch07.asteroids import PolygonModel\n",
    "asteroid = PolygonModel([(2,7), (1,5), (2,3), (4,2), (6,2), (7,4), (6,6), (4,6)])\n",
    "asteroid.does_intersect([(0,0),(7,7)])"
   ],
   "metadata": {
    "collapsed": false,
    "pycharm": {
     "name": "#%%\n"
    }
   }
  },
  {
   "cell_type": "code",
   "execution_count": 101,
   "outputs": [
    {
     "data": {
      "text/plain": "False"
     },
     "execution_count": 101,
     "metadata": {},
     "output_type": "execute_result"
    }
   ],
   "source": [
    "asteroid.does_intersect([(0,0),(0,7)])"
   ],
   "metadata": {
    "collapsed": false,
    "pycharm": {
     "name": "#%%\n"
    }
   }
  },
  {
   "cell_type": "markdown",
   "source": [
    "Exercise 7.14: Write a does_collide(other_polygon) method to decide whether the current PolygonModel\n",
    "object collides with another other_polygon by checking whether any of the segments that define the two are\n",
    "intersecting. This could help us decide whether an asteroid has hit the ship or another asteroid."
   ],
   "metadata": {
    "collapsed": false
   }
  },
  {
   "cell_type": "code",
   "execution_count": 106,
   "outputs": [
    {
     "data": {
      "text/plain": "<Figure size 432x432 with 1 Axes>",
      "image/png": "[encoded data removed]"
     },
     "metadata": {},
     "output_type": "display_data"
    },
    {
     "data": {
      "text/plain": "True"
     },
     "execution_count": 106,
     "metadata": {},
     "output_type": "execute_result"
    }
   ],
   "source": [
    "square1 = PolygonModel([(0,0), (3,0), (3,3), (0,3)])\n",
    "square2 = PolygonModel([(1,1), (4,1), (4,4), (1,4)])\n",
    "draw(\n",
    "    Polygon(*square1.points, color='blue'),\n",
    "    Polygon(*square2.points, color='red'),\n",
    "axes=None)\n",
    "\n",
    "square1.does_collide(square2)"
   ],
   "metadata": {
    "collapsed": false,
    "pycharm": {
     "name": "#%%\n"
    }
   }
  },
  {
   "cell_type": "code",
   "execution_count": 105,
   "outputs": [
    {
     "data": {
      "text/plain": "<Figure size 432x432 with 1 Axes>",
      "image/png": "[encoded data removed]"
     },
     "metadata": {},
     "output_type": "display_data"
    },
    {
     "data": {
      "text/plain": "False"
     },
     "execution_count": 105,
     "metadata": {},
     "output_type": "execute_result"
    }
   ],
   "source": [
    "\n",
    "square3 = PolygonModel([(-3,-3),(-2,-3),(-2,-2),(-3,-2)])\n",
    "draw(\n",
    "    Polygon(*square1.points, color='blue'),\n",
    "    Polygon(*square3.points, color='red'),\n",
    "axes=None)\n",
    "\n",
    "square1.does_collide(square3)"
   ],
   "metadata": {
    "collapsed": false,
    "pycharm": {
     "name": "#%%\n"
    }
   }
  }
 ],
 "metadata": {
  "kernelspec": {
   "display_name": "Python 3",
   "language": "python",
   "name": "python3"
  },
  "language_info": {
   "codemirror_mode": {
    "name": "ipython",
    "version": 2
   },
   "file_extension": ".py",
   "mimetype": "text/x-python",
   "name": "python",
   "nbconvert_exporter": "python",
   "pygments_lexer": "ipython2",
   "version": "2.7.6"
  }
 },
 "nbformat": 4,
 "nbformat_minor": 0
}