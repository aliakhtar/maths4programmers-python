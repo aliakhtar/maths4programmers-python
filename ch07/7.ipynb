{
 "cells": [
  {
   "cell_type": "markdown",
   "metadata": {
    "collapsed": true,
    "pycharm": {
     "name": "#%% md\n"
    }
   },
   "source": [
    "\n",
    "# 7: Solving systems of linear equations"
   ]
  },
  {
   "cell_type": "code",
   "execution_count": 9,
   "outputs": [
    {
     "name": "stdout",
     "output_type": "stream",
     "text": [
      "The autoreload extension is already loaded. To reload it, use:\n",
      "  %reload_ext autoreload\n"
     ]
    }
   ],
   "source": [
    "\n",
    "%load_ext autoreload\n",
    "%autoreload 2\n",
    "from jupyterthemes import jtplot\n",
    "jtplot.style()\n",
    "\n",
    "from ch07.vectors import *\n",
    "from ch07.functions import *"
   ],
   "metadata": {
    "collapsed": false,
    "pycharm": {
     "name": "#%%\n"
    }
   }
  },
  {
   "cell_type": "markdown",
   "source": [
    "## 7.24: Solving matrices with numpy"
   ],
   "metadata": {
    "collapsed": false
   }
  },
  {
   "cell_type": "code",
   "execution_count": 4,
   "outputs": [
    {
     "data": {
      "text/plain": "array([2.66666667, 2.66666667])"
     },
     "execution_count": 4,
     "metadata": {},
     "output_type": "execute_result"
    }
   ],
   "source": [
    "import numpy as np\n",
    "matrix = np.array(( (1, -1), (1, 2) ))\n",
    "output = np.array( (0, 8) )\n",
    "vector = np.linalg.solve(matrix, output)\n",
    "vector"
   ],
   "metadata": {
    "collapsed": false,
    "pycharm": {
     "name": "#%%\n"
    }
   }
  },
  {
   "cell_type": "markdown",
   "source": [
    "Exercise 7.11: Write a Python function standard_form that takes two vectors v1 and v2 and finds the line ax + by = c\n",
    "passing through both of them. Specifically, it should output the tuple of constants (a, b, c)."
   ],
   "metadata": {
    "collapsed": false
   }
  },
  {
   "cell_type": "code",
   "execution_count": 10,
   "outputs": [
    {
     "data": {
      "text/plain": "(1, 0, 3)"
     },
     "execution_count": 10,
     "metadata": {},
     "output_type": "execute_result"
    }
   ],
   "source": [
    "standard_form( (3,0), (3,1) )"
   ],
   "metadata": {
    "collapsed": false,
    "pycharm": {
     "name": "#%%\n"
    }
   }
  },
  {
   "cell_type": "markdown",
   "source": [
    "Mini-project 7.12: For each of the four distance checks in do_segments_intersect, find a pair of line segments\n",
    "that fail one of the checks but pass the other three checks.\n",
    "\n",
    "\n",
    "Segments needed:\n",
    "s1 = (u1, u2) x 4\n",
    "s2 = (v1, v2) x 4\n",
    "\n",
    "i = intersection(u1, u2, v1, v2)\n",
    "l1 = distance(*s1)\n",
    "l2 = distance(*s2)\n",
    "\n",
    "such that:\n",
    "\n",
    "### 1)\n",
    "\n",
    "- distance( u1, i) **>** l1\n",
    "- distance( u2, i) <= l1\n",
    "- distance (v1, i) <= l2\n",
    "- distance (v2, i) <= l2\n",
    "\n",
    "### 2)\n",
    "\n",
    "- distance( u1, i) <= l1\n",
    "- distance( u2, i) **>** l1\n",
    "- distance (v1, i) <= l2\n",
    "- distance (v2, i) <= l2\n",
    "\n",
    "\n",
    "### 3)\n",
    "\n",
    "- distance( u1, i) <= l1\n",
    "- distance( u2, i) <= l1\n",
    "- distance (v1, i) **>** l2\n",
    "- distance (v2, i) <= l2\n",
    "\n",
    "### 4)\n",
    "\n",
    "- distance( u1, i) <= l1\n",
    "- distance( u2, i) <= l1\n",
    "- distance (v1, i) <= l2\n",
    "- distance (v2, i) **>** l2"
   ],
   "metadata": {
    "collapsed": false
   }
  }
 ],
 "metadata": {
  "kernelspec": {
   "display_name": "Python 3",
   "language": "python",
   "name": "python3"
  },
  "language_info": {
   "codemirror_mode": {
    "name": "ipython",
    "version": 2
   },
   "file_extension": ".py",
   "mimetype": "text/x-python",
   "name": "python",
   "nbconvert_exporter": "python",
   "pygments_lexer": "ipython2",
   "version": "2.7.6"
  }
 },
 "nbformat": 4,
 "nbformat_minor": 0
}