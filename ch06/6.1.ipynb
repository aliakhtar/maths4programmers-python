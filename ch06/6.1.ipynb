{
 "cells": [
  {
   "cell_type": "markdown",
   "metadata": {
    "collapsed": true,
    "pycharm": {
     "name": "#%% md\n"
    }
   },
   "source": [
    "# 6.1 Generalizing Vectors"
   ]
  },
  {
   "cell_type": "code",
   "execution_count": 46,
   "outputs": [
    {
     "name": "stdout",
     "output_type": "stream",
     "text": [
      "The autoreload extension is already loaded. To reload it, use:\n",
      "  %reload_ext autoreload\n"
     ]
    }
   ],
   "source": [
    "%load_ext autoreload\n",
    "%autoreload 2\n",
    "from jupyterthemes import jtplot\n",
    "jtplot.style()\n",
    "\n",
    "from ch06.vectors import *\n",
    "from ch06.functions import *\n",
    "from ch06.Vec2 import Vec2\n",
    "from ch06.Vec3 import Vec3"
   ],
   "metadata": {
    "collapsed": false,
    "pycharm": {
     "name": "#%%\n"
    }
   }
  },
  {
   "cell_type": "markdown",
   "source": [
    "Vec2d class"
   ],
   "metadata": {
    "collapsed": false
   }
  },
  {
   "cell_type": "code",
   "execution_count": 7,
   "outputs": [
    {
     "name": "stdout",
     "output_type": "stream",
     "text": [
      "Vec2(1, 3)\n",
      "Vec2(6, 9)\n"
     ]
    },
    {
     "data": {
      "text/plain": "Vec2(3.0, 4.0)"
     },
     "execution_count": 7,
     "metadata": {},
     "output_type": "execute_result"
    }
   ],
   "source": [
    "print(Vec2(1, 1).add(Vec2(0, 2)))\n",
    "\n",
    "print(Vec2(2, 3).scale(3))\n",
    "\n",
    "3.0 * Vec2(1,0) + 4.0 * Vec2(0,1)"
   ],
   "metadata": {
    "collapsed": false,
    "pycharm": {
     "name": "#%%\n"
    }
   }
  },
  {
   "cell_type": "code",
   "execution_count": 10,
   "outputs": [
    {
     "data": {
      "text/plain": "Vec3(2.0, 2.0, 0.0)"
     },
     "execution_count": 10,
     "metadata": {},
     "output_type": "execute_result"
    }
   ],
   "source": [
    "2.0 * (Vec3(1,0,0) + Vec3(0,1,0))"
   ],
   "metadata": {
    "collapsed": false,
    "pycharm": {
     "name": "#%%\n"
    }
   }
  },
  {
   "cell_type": "code",
   "execution_count": 12,
   "outputs": [
    {
     "data": {
      "text/plain": "Vec2(-4, 2)"
     },
     "execution_count": 12,
     "metadata": {},
     "output_type": "execute_result"
    }
   ],
   "source": [
    "Vec2(1,3) - Vec2(5,1)"
   ],
   "metadata": {
    "collapsed": false,
    "pycharm": {
     "name": "#%%\n"
    }
   }
  },
  {
   "cell_type": "markdown",
   "source": [
    "Running tests on Vec2:"
   ],
   "metadata": {
    "collapsed": false
   }
  },
  {
   "cell_type": "code",
   "execution_count": 29,
   "outputs": [
    {
     "name": "stdout",
     "output_type": "stream",
     "text": [
      "All tests passed\n",
      "Passed all tests\n"
     ]
    }
   ],
   "source": [
    "test_vectors(rand_vec2, approx_equal_vec2)\n",
    "\n",
    "print(\"Passed all tests\")"
   ],
   "metadata": {
    "collapsed": false,
    "pycharm": {
     "name": "#%%\n"
    }
   }
  },
  {
   "cell_type": "markdown",
   "source": [
    "Mini-project 6.2: Implement a CoordinateVector class inheriting from Vector with an abstract property\n",
    "representing the dimension. This should save repetitious work when implementing specific coordinate vector classes.\n",
    "Inheriting from CoordinateVector and setting the dimension to 6 should be all you need to do to implement a\n",
    "Vec6 class."
   ],
   "metadata": {
    "collapsed": false
   }
  },
  {
   "cell_type": "code",
   "execution_count": 22,
   "outputs": [
    {
     "data": {
      "text/plain": "Vec6 (2, 4, 6, 8, 10, 12)"
     },
     "execution_count": 22,
     "metadata": {},
     "output_type": "execute_result"
    }
   ],
   "source": [
    "\n",
    "from ch06.Vec6 import *\n",
    "Vec6(1,2,3,4,5,6) + Vec6(1,2,3,4,5,6)"
   ],
   "metadata": {
    "collapsed": false,
    "pycharm": {
     "name": "#%%\n"
    }
   }
  },
  {
   "cell_type": "markdown",
   "source": [
    "Exercise 6.4: Write unit tests to show that the addition and scalar multiplication operations for Vec3 satisfy the vector\n",
    "space properties."
   ],
   "metadata": {
    "collapsed": false
   }
  },
  {
   "cell_type": "code",
   "execution_count": 47,
   "outputs": [
    {
     "name": "stdout",
     "output_type": "stream",
     "text": [
      "All tests passed\n"
     ]
    }
   ],
   "source": [
    "test_vectors(rand_vec3, approx_equal_vec3)\n",
    "\n",
    "#test(approx_equal_vec3, 1, 2, Vec3(1, 2, 3), Vec3(1, 2, 3), Vec3(1, 2, 3))"
   ],
   "metadata": {
    "collapsed": false,
    "pycharm": {
     "name": "#%%\n"
    }
   }
  },
  {
   "cell_type": "markdown",
   "source": [
    "Exercise 6.5: Add unit tests to check that Z + v = v, 0 · v = Z, and -v + v = Z for any vector v,\n",
    "where again 0 is the number zero and Z is the zero vector."
   ],
   "metadata": {
    "collapsed": false
   }
  },
  {
   "cell_type": "code",
   "execution_count": 53,
   "outputs": [
    {
     "name": "stdout",
     "output_type": "stream",
     "text": [
      "Vec3(1, 2, 3) True\n",
      "Vec3(0, 0, 0) True\n",
      "Vec3(0, 0, 0) True\n",
      "All tests passed\n",
      "All tests passed\n"
     ]
    }
   ],
   "source": [
    "v = Vec3(1,2,3)\n",
    "print( v.zero() + v,  approx_equal_vec3(v, v.zero() + v) )\n",
    "print( 0 * v, approx_equal_vec3(v.zero(), 0 * v  )  )\n",
    "print( -v + v, approx_equal_vec3(v.zero(), -v + v) )\n",
    "\n",
    "test_vectors(rand_vec2, approx_equal_vec2)\n",
    "test_vectors(rand_vec3, approx_equal_vec3)\n"
   ],
   "metadata": {
    "collapsed": false,
    "pycharm": {
     "name": "#%%\n"
    }
   }
  }
 ],
 "metadata": {
  "kernelspec": {
   "display_name": "Python 3",
   "language": "python",
   "name": "python3"
  },
  "language_info": {
   "codemirror_mode": {
    "name": "ipython",
    "version": 2
   },
   "file_extension": ".py",
   "mimetype": "text/x-python",
   "name": "python",
   "nbconvert_exporter": "python",
   "pygments_lexer": "ipython2",
   "version": "2.7.6"
  }
 },
 "nbformat": 4,
 "nbformat_minor": 0
}