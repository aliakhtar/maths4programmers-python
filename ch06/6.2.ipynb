{
 "cells": [
  {
   "cell_type": "markdown",
   "metadata": {
    "collapsed": true,
    "pycharm": {
     "name": "#%% md\n"
    }
   },
   "source": [
    "# 6.2 Vector Spaces"
   ]
  },
  {
   "cell_type": "code",
   "execution_count": 6,
   "outputs": [
    {
     "name": "stdout",
     "output_type": "stream",
     "text": [
      "The autoreload extension is already loaded. To reload it, use:\n",
      "  %reload_ext autoreload\n"
     ]
    }
   ],
   "source": [
    "%load_ext autoreload\n",
    "%autoreload 2\n",
    "from jupyterthemes import jtplot\n",
    "jtplot.style()\n",
    "\n",
    "from ch06.vectors import *\n",
    "from ch06.functions import *\n",
    "from ch06.Vec2 import Vec2\n",
    "from ch06.Vec3 import Vec3"
   ],
   "metadata": {
    "collapsed": false,
    "pycharm": {
     "name": "#%%\n"
    }
   }
  },
  {
   "cell_type": "markdown",
   "source": [
    "Exercise 6.8: Run the vector space unit tests with float values for u, v, and w, rather than with objects inheriting from\n",
    "the Vector class. This demonstrates that real numbers are indeed vectors."
   ],
   "metadata": {
    "collapsed": false
   }
  },
  {
   "cell_type": "code",
   "execution_count": 7,
   "outputs": [
    {
     "name": "stdout",
     "output_type": "stream",
     "text": [
      "All tests passed\n"
     ]
    }
   ],
   "source": [
    "test_vectors(rand_scalar, isclose)"
   ],
   "metadata": {
    "collapsed": false,
    "pycharm": {
     "name": "#%%\n"
    }
   }
  },
  {
   "cell_type": "markdown",
   "source": [
    "## Building the TitanicPassenger dataset / vectors\n",
    "\n",
    "(Instead of cargraph, because I'm a hippy)"
   ],
   "metadata": {
    "collapsed": false
   }
  },
  {
   "cell_type": "code",
   "execution_count": 43,
   "outputs": [
    {
     "name": "stdout",
     "output_type": "stream",
     "text": [
      "887\n"
     ]
    },
    {
     "data": {
      "text/plain": "{'survived': 1,\n 'p_class': 5,\n 'age': 46.0,\n 'siblings': 0,\n 'kids': 0,\n 'fare': 0.0,\n 'name': '<virtual>',\n 'sex': '<virtual>'}"
     },
     "execution_count": 43,
     "metadata": {},
     "output_type": "execute_result"
    }
   ],
   "source": [
    "import pandas as pd\n",
    "from ch06.TitanicPassenger import *\n",
    "\n",
    "csv = pd.read_csv(\"titanic.csv\")\n",
    "\n",
    "passengers = []\n",
    "for i, row in csv.iterrows():\n",
    "    survived, p_class, age, siblings, kids, fare, name, sex = row\n",
    "    passengers.append( TitanicPassenger(survived, p_class, age, siblings, kids, fare, name, sex) )\n",
    "\n",
    "\n",
    "print(len(passengers))\n",
    "\n",
    "(passengers[0] + passengers[1]).__dict__"
   ],
   "metadata": {
    "collapsed": false,
    "pycharm": {
     "name": "#%%\n"
    }
   }
  },
  {
   "cell_type": "code",
   "execution_count": 44,
   "outputs": [
    {
     "data": {
      "text/plain": "TitanicPassenger(survived=0.3855693348365276, p_cls = 2.305524239007892, age = 29.471443066516343, siblings = 0.5253664036076663, kids = 0.38331454340473503, fare = 32.30542018038333, name = <virtual>, sex = <virtual> "
     },
     "execution_count": 44,
     "metadata": {},
     "output_type": "execute_result"
    }
   ],
   "source": [
    "# Avg passenger:\n",
    "avg_passenger = sum( passengers, TitanicPassenger.zero() ) * 1.0 / len(passengers)\n",
    "avg_passenger"
   ],
   "metadata": {
    "collapsed": false,
    "pycharm": {
     "name": "#%%\n"
    }
   }
  }
 ],
 "metadata": {
  "kernelspec": {
   "display_name": "Python 3",
   "language": "python",
   "name": "python3"
  },
  "language_info": {
   "codemirror_mode": {
    "name": "ipython",
    "version": 2
   },
   "file_extension": ".py",
   "mimetype": "text/x-python",
   "name": "python",
   "nbconvert_exporter": "python",
   "pygments_lexer": "ipython2",
   "version": "2.7.6"
  }
 },
 "nbformat": 4,
 "nbformat_minor": 0
}