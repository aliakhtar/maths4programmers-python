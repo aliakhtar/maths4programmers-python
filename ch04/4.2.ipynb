{
 "cells": [
  {
   "cell_type": "markdown",
   "source": [
    "# 4.2 Linear Transformations"
   ],
   "metadata": {
    "collapsed": false
   }
  },
  {
   "cell_type": "code",
   "execution_count": 1,
   "outputs": [],
   "source": [
    "%load_ext autoreload\n",
    "%autoreload 2\n",
    "#from jupyterthemes import jtplot\n",
    "#jtplot.style()\n",
    "\n",
    "from ch04.functions import *"
   ],
   "metadata": {
    "collapsed": false,
    "pycharm": {
     "name": "#%%\n"
    }
   }
  },
  {
   "cell_type": "markdown",
   "source": [
    "Applying linear transform to a vector:"
   ],
   "metadata": {
    "collapsed": false
   }
  },
  {
   "cell_type": "code",
   "execution_count": 5,
   "outputs": [
    {
     "name": "stdout",
     "output_type": "stream",
     "text": [
      "(-1, 2, 2)\n"
     ]
    }
   ],
   "source": [
    "e1 = (1, 0, 0)\n",
    "e2 = (0, 1, 0)\n",
    "e3 = (0, 0, 1)\n",
    "\n",
    "Ae1 = (1,1,1) # A(e1)\n",
    "Ae2 = (1,0,-1) #A(e2)\n",
    "Ae3 = (0,1,1) #A(e3)\n",
    "\n",
    "def apply_a(v):\n",
    "    #s1, s2, s3 are the scalar values of x, y, z in the vector\n",
    "    # v can be rewritten as (s1 * e1) + (s2 * e2) + (s3 *e3)\n",
    "    # By adding these 3 vectors together, we end up with v\n",
    "    s1,s2,s3 = v\n",
    "    vectorsToAdd = [\n",
    "        scale(s1, e1),\n",
    "        scale(s2, e2),\n",
    "        scale(s3, e3),\n",
    "    ]\n",
    "\n",
    "    return add(*vectorsToAdd)\n",
    "\n",
    "print(apply_a( (-1, 2, 2) )) #expected = (1, 1, -1)"
   ],
   "metadata": {
    "collapsed": false,
    "pycharm": {
     "name": "#%%\n"
    }
   }
  }
 ],
 "metadata": {
  "kernelspec": {
   "display_name": "Python 3",
   "language": "python",
   "name": "python3"
  },
  "language_info": {
   "codemirror_mode": {
    "name": "ipython",
    "version": 2
   },
   "file_extension": ".py",
   "mimetype": "text/x-python",
   "name": "python",
   "nbconvert_exporter": "python",
   "pygments_lexer": "ipython2",
   "version": "2.7.6"
  }
 },
 "nbformat": 4,
 "nbformat_minor": 0
}