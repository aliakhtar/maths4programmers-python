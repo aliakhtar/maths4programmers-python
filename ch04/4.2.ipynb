{
 "cells": [
  {
   "cell_type": "markdown",
   "source": [
    "# 4.2 Linear Transformations"
   ],
   "metadata": {
    "collapsed": false
   }
  },
  {
   "cell_type": "code",
   "execution_count": 12,
   "outputs": [
    {
     "name": "stdout",
     "output_type": "stream",
     "text": [
      "The autoreload extension is already loaded. To reload it, use:\n",
      "  %reload_ext autoreload\n"
     ]
    }
   ],
   "source": [
    "%load_ext autoreload\n",
    "%autoreload 2\n",
    "#from jupyterthemes import jtplot\n",
    "#jtplot.style()\n",
    "\n",
    "from ch04.functions import *\n",
    "from ch03.draw2d import * #for 2d drawing stuff"
   ],
   "metadata": {
    "collapsed": false,
    "pycharm": {
     "name": "#%%\n"
    }
   }
  },
  {
   "cell_type": "markdown",
   "source": [
    "Applying linear transform to a vector:"
   ],
   "metadata": {
    "collapsed": false
   }
  },
  {
   "cell_type": "code",
   "execution_count": 11,
   "outputs": [
    {
     "name": "stdout",
     "output_type": "stream",
     "text": [
      "(1, 1, -1)\n"
     ]
    }
   ],
   "source": [
    "e1 = (1, 0, 0)\n",
    "e2 = (0, 1, 0)\n",
    "e3 = (0, 0, 1)\n",
    "\n",
    "Ae1 = (1,1,1) # A(e1)\n",
    "Ae2 = (1,0,-1) #A(e2)\n",
    "Ae3 = (0,1,1) #A(e3)\n",
    "\n",
    "def apply_a(v):\n",
    "    #s1, s2, s3 are the scalar values of x, y, z in the vector\n",
    "    # v can be rewritten as (s1 * e1) + (s2 * e2) + (s3 *e3)\n",
    "    # By adding these 3 vectors together, we end up with v\n",
    "\n",
    "    # To apply A to a given vector, we multiply s1, s2, s3 with ae1, ae2, and ae3\n",
    "    s1,s2,s3 = v\n",
    "    vectorsToAdd = [\n",
    "        scale(s1, Ae1),\n",
    "        scale(s2, Ae2),\n",
    "        scale(s3, Ae3),\n",
    "    ]\n",
    "\n",
    "    return add(*vectorsToAdd)\n",
    "\n",
    "print(apply_a( (-1, 2, 2) )) #expected = (1, 1, -1)"
   ],
   "metadata": {
    "collapsed": false,
    "pycharm": {
     "name": "#%%\n"
    }
   }
  },
  {
   "cell_type": "markdown",
   "source": [
    "Drawing apply_a to teapot:"
   ],
   "metadata": {
    "collapsed": false
   }
  },
  {
   "cell_type": "code",
   "execution_count": 8,
   "outputs": [
    {
     "name": "stdout",
     "output_type": "stream",
     "text": [
      "pygame 2.0.0.dev10 (SDL 2.0.12, python 3.8.5)\r\n",
      "Hello from the pygame community. https://www.pygame.org/contribute.html\r\n",
      "ALSA lib pcm_dmix.c:1089:(snd_pcm_dmix_open) unable to open slave\r\n"
     ]
    }
   ],
   "source": [
    "!python 14_teapot_with_linear_transform.py"
   ],
   "metadata": {
    "collapsed": false,
    "pycharm": {
     "name": "#%%\n"
    }
   }
  },
  {
   "cell_type": "markdown",
   "source": [
    "Exercise 4.13: What is the midpoint between (5, 3) and (-2, 1)? Plot all three of these points to see that you are correct."
   ],
   "metadata": {
    "collapsed": false
   }
  },
  {
   "cell_type": "code",
   "execution_count": 14,
   "outputs": [
    {
     "name": "stdout",
     "output_type": "stream",
     "text": [
      "(1.5, 2.0)\n"
     ]
    },
    {
     "data": {
      "text/plain": "<Figure size 432x240 with 1 Axes>",
      "image/png": "[encoded data removed]"
     },
     "metadata": {
      "needs_background": "light"
     },
     "output_type": "display_data"
    }
   ],
   "source": [
    "u = (5, 3)\n",
    "v = (-2, 1)\n",
    "midpoint = add( scale(0.5, u), scale(0.5, v) ) # midpoint = 0.5u + 0.5v\n",
    "print(midpoint)\n",
    "\n",
    "draw2d(\n",
    "    Arrow2D(u, color=blue),\n",
    "    Arrow2D(v, color=red),\n",
    "    Arrow2D(midpoint, color=black)\n",
    ")"
   ],
   "metadata": {
    "collapsed": false,
    "pycharm": {
     "name": "#%%\n"
    }
   }
  }
 ],
 "metadata": {
  "kernelspec": {
   "display_name": "Python 3",
   "language": "python",
   "name": "python3"
  },
  "language_info": {
   "codemirror_mode": {
    "name": "ipython",
    "version": 2
   },
   "file_extension": ".py",
   "mimetype": "text/x-python",
   "name": "python",
   "nbconvert_exporter": "python",
   "pygments_lexer": "ipython2",
   "version": "2.7.6"
  }
 },
 "nbformat": 4,
 "nbformat_minor": 0
}